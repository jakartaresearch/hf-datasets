{
 "cells": [
  {
   "cell_type": "code",
   "execution_count": 1,
   "id": "bc78221c",
   "metadata": {},
   "outputs": [],
   "source": [
    "import pandas as pd"
   ]
  },
  {
   "cell_type": "code",
   "execution_count": 2,
   "id": "bb6ad118",
   "metadata": {},
   "outputs": [],
   "source": [
    "d_train = pd.read_excel('msrp-train.xlsx', sheet_name=0)"
   ]
  },
  {
   "cell_type": "code",
   "execution_count": 3,
   "id": "23a023b7",
   "metadata": {},
   "outputs": [],
   "source": [
    "d_test = pd.read_excel('msrp-test.xlsx', sheet_name=0)"
   ]
  },
  {
   "cell_type": "code",
   "execution_count": 5,
   "id": "aca6454e",
   "metadata": {},
   "outputs": [
    {
     "data": {
      "text/html": [
       "<div>\n",
       "<style scoped>\n",
       "    .dataframe tbody tr th:only-of-type {\n",
       "        vertical-align: middle;\n",
       "    }\n",
       "\n",
       "    .dataframe tbody tr th {\n",
       "        vertical-align: top;\n",
       "    }\n",
       "\n",
       "    .dataframe thead th {\n",
       "        text-align: right;\n",
       "    }\n",
       "</style>\n",
       "<table border=\"1\" class=\"dataframe\">\n",
       "  <thead>\n",
       "    <tr style=\"text-align: right;\">\n",
       "      <th></th>\n",
       "      <th>Quality</th>\n",
       "      <th>#1 ID</th>\n",
       "      <th>#2 ID</th>\n",
       "      <th>#1 String</th>\n",
       "      <th>#1 Translate</th>\n",
       "      <th>#2 String</th>\n",
       "      <th>#2 Translate</th>\n",
       "    </tr>\n",
       "  </thead>\n",
       "  <tbody>\n",
       "    <tr>\n",
       "      <th>0</th>\n",
       "      <td>1</td>\n",
       "      <td>702876</td>\n",
       "      <td>702977</td>\n",
       "      <td>Amrozi accused his brother, whom he called \"th...</td>\n",
       "      <td>Amrozi menuduh saudaranya, yang dia sebut \"sak...</td>\n",
       "      <td>Referring to him as only \"the witness\", Amrozi...</td>\n",
       "      <td>Mengacu padanya hanya sebagai \"saksi\", Amrozi ...</td>\n",
       "    </tr>\n",
       "    <tr>\n",
       "      <th>1</th>\n",
       "      <td>0</td>\n",
       "      <td>2108705</td>\n",
       "      <td>2108831</td>\n",
       "      <td>Yucaipa owned Dominick's before selling the ch...</td>\n",
       "      <td>Yucaipa memiliki rantai Dominick sebelum menju...</td>\n",
       "      <td>Yucaipa bought Dominick's in 1995 for $693 mil...</td>\n",
       "      <td>Yucaipa membeli Dominick pada tahun 1995 denga...</td>\n",
       "    </tr>\n",
       "    <tr>\n",
       "      <th>2</th>\n",
       "      <td>1</td>\n",
       "      <td>1330381</td>\n",
       "      <td>1330521</td>\n",
       "      <td>They had published an advertisement on the Int...</td>\n",
       "      <td>Mereka telah menerbitkan iklan di internet pad...</td>\n",
       "      <td>On June 10, the ship's owners had published an...</td>\n",
       "      <td>Pada 10 Juni, pemilik kapal telah menerbitkan ...</td>\n",
       "    </tr>\n",
       "    <tr>\n",
       "      <th>3</th>\n",
       "      <td>0</td>\n",
       "      <td>3344667</td>\n",
       "      <td>3344648</td>\n",
       "      <td>Around 0335 GMT, Tab shares were up 19 cents, ...</td>\n",
       "      <td>Sekitar 0335 GMT, saham tab naik 19 sen, atau ...</td>\n",
       "      <td>Tab shares jumped 20 cents, or 4.6%, to set a ...</td>\n",
       "      <td>Saham TAB melonjak 20 sen, atau 4,6%, untuk me...</td>\n",
       "    </tr>\n",
       "    <tr>\n",
       "      <th>4</th>\n",
       "      <td>1</td>\n",
       "      <td>1236820</td>\n",
       "      <td>1236712</td>\n",
       "      <td>The stock rose $2.11, or about 11 percent, to ...</td>\n",
       "      <td>Saham naik $ 2,11, atau sekitar 11 persen, dit...</td>\n",
       "      <td>PG&amp;E Corp. shares jumped $1.63 or 8 percent to...</td>\n",
       "      <td>Saham PG&amp;E Corp. melonjak $ 1,63 atau 8 persen...</td>\n",
       "    </tr>\n",
       "  </tbody>\n",
       "</table>\n",
       "</div>"
      ],
      "text/plain": [
       "   Quality    #1 ID    #2 ID  \\\n",
       "0        1   702876   702977   \n",
       "1        0  2108705  2108831   \n",
       "2        1  1330381  1330521   \n",
       "3        0  3344667  3344648   \n",
       "4        1  1236820  1236712   \n",
       "\n",
       "                                           #1 String  \\\n",
       "0  Amrozi accused his brother, whom he called \"th...   \n",
       "1  Yucaipa owned Dominick's before selling the ch...   \n",
       "2  They had published an advertisement on the Int...   \n",
       "3  Around 0335 GMT, Tab shares were up 19 cents, ...   \n",
       "4  The stock rose $2.11, or about 11 percent, to ...   \n",
       "\n",
       "                                        #1 Translate  \\\n",
       "0  Amrozi menuduh saudaranya, yang dia sebut \"sak...   \n",
       "1  Yucaipa memiliki rantai Dominick sebelum menju...   \n",
       "2  Mereka telah menerbitkan iklan di internet pad...   \n",
       "3  Sekitar 0335 GMT, saham tab naik 19 sen, atau ...   \n",
       "4  Saham naik $ 2,11, atau sekitar 11 persen, dit...   \n",
       "\n",
       "                                           #2 String  \\\n",
       "0  Referring to him as only \"the witness\", Amrozi...   \n",
       "1  Yucaipa bought Dominick's in 1995 for $693 mil...   \n",
       "2  On June 10, the ship's owners had published an...   \n",
       "3  Tab shares jumped 20 cents, or 4.6%, to set a ...   \n",
       "4  PG&E Corp. shares jumped $1.63 or 8 percent to...   \n",
       "\n",
       "                                        #2 Translate  \n",
       "0  Mengacu padanya hanya sebagai \"saksi\", Amrozi ...  \n",
       "1  Yucaipa membeli Dominick pada tahun 1995 denga...  \n",
       "2  Pada 10 Juni, pemilik kapal telah menerbitkan ...  \n",
       "3  Saham TAB melonjak 20 sen, atau 4,6%, untuk me...  \n",
       "4  Saham PG&E Corp. melonjak $ 1,63 atau 8 persen...  "
      ]
     },
     "execution_count": 5,
     "metadata": {},
     "output_type": "execute_result"
    }
   ],
   "source": [
    "d_train.head()"
   ]
  },
  {
   "cell_type": "code",
   "execution_count": 6,
   "id": "9ef25218",
   "metadata": {},
   "outputs": [
    {
     "data": {
      "text/html": [
       "<div>\n",
       "<style scoped>\n",
       "    .dataframe tbody tr th:only-of-type {\n",
       "        vertical-align: middle;\n",
       "    }\n",
       "\n",
       "    .dataframe tbody tr th {\n",
       "        vertical-align: top;\n",
       "    }\n",
       "\n",
       "    .dataframe thead th {\n",
       "        text-align: right;\n",
       "    }\n",
       "</style>\n",
       "<table border=\"1\" class=\"dataframe\">\n",
       "  <thead>\n",
       "    <tr style=\"text-align: right;\">\n",
       "      <th></th>\n",
       "      <th>Quality</th>\n",
       "      <th>#1 ID</th>\n",
       "      <th>#2 ID</th>\n",
       "      <th>#1 String</th>\n",
       "      <th>#1 Translate</th>\n",
       "      <th>#2 String</th>\n",
       "      <th>#2 Translate</th>\n",
       "    </tr>\n",
       "  </thead>\n",
       "  <tbody>\n",
       "    <tr>\n",
       "      <th>0</th>\n",
       "      <td>1.0</td>\n",
       "      <td>1089874.0</td>\n",
       "      <td>1089925.0</td>\n",
       "      <td>PCCW's chief operating officer, Mike Butcher, ...</td>\n",
       "      <td>Chief Operating Officer PCCW, Mike Butcher, da...</td>\n",
       "      <td>Current Chief Operating Officer Mike Butcher a...</td>\n",
       "      <td>Chief Operating Officer saat ini Mike Butcher ...</td>\n",
       "    </tr>\n",
       "    <tr>\n",
       "      <th>1</th>\n",
       "      <td>1.0</td>\n",
       "      <td>3019446.0</td>\n",
       "      <td>3019327.0</td>\n",
       "      <td>The world's two largest automakers said their ...</td>\n",
       "      <td>Dua pembuat mobil terbesar di dunia mengatakan...</td>\n",
       "      <td>Domestic sales at both GM and No. 2 Ford Motor...</td>\n",
       "      <td>Penjualan domestik di GM dan No. 2 Ford Motor ...</td>\n",
       "    </tr>\n",
       "    <tr>\n",
       "      <th>2</th>\n",
       "      <td>1.0</td>\n",
       "      <td>1945605.0</td>\n",
       "      <td>1945824.0</td>\n",
       "      <td>According to the federal Centers for Disease C...</td>\n",
       "      <td>Menurut Pusat Pengendalian dan Pencegahan Peny...</td>\n",
       "      <td>The Centers for Disease Control and Prevention...</td>\n",
       "      <td>Pusat Pengendalian dan Pencegahan Penyakit men...</td>\n",
       "    </tr>\n",
       "    <tr>\n",
       "      <th>3</th>\n",
       "      <td>0.0</td>\n",
       "      <td>1430402.0</td>\n",
       "      <td>1430329.0</td>\n",
       "      <td>A tropical storm rapidly developed in the Gulf...</td>\n",
       "      <td>Badai tropis berkembang pesat di Teluk Meksiko...</td>\n",
       "      <td>A tropical storm rapidly developed in the Gulf...</td>\n",
       "      <td>Badai tropis berkembang pesat di Teluk Meksiko...</td>\n",
       "    </tr>\n",
       "    <tr>\n",
       "      <th>4</th>\n",
       "      <td>0.0</td>\n",
       "      <td>3354381.0</td>\n",
       "      <td>3354396.0</td>\n",
       "      <td>The company didn't detail the costs of the rep...</td>\n",
       "      <td>Perusahaan tidak merinci biaya penggantian dan...</td>\n",
       "      <td>But company officials expect the costs of the ...</td>\n",
       "      <td>Tetapi pejabat perusahaan mengharapkan biaya p...</td>\n",
       "    </tr>\n",
       "  </tbody>\n",
       "</table>\n",
       "</div>"
      ],
      "text/plain": [
       "   Quality      #1 ID      #2 ID  \\\n",
       "0      1.0  1089874.0  1089925.0   \n",
       "1      1.0  3019446.0  3019327.0   \n",
       "2      1.0  1945605.0  1945824.0   \n",
       "3      0.0  1430402.0  1430329.0   \n",
       "4      0.0  3354381.0  3354396.0   \n",
       "\n",
       "                                           #1 String  \\\n",
       "0  PCCW's chief operating officer, Mike Butcher, ...   \n",
       "1  The world's two largest automakers said their ...   \n",
       "2  According to the federal Centers for Disease C...   \n",
       "3  A tropical storm rapidly developed in the Gulf...   \n",
       "4  The company didn't detail the costs of the rep...   \n",
       "\n",
       "                                        #1 Translate  \\\n",
       "0  Chief Operating Officer PCCW, Mike Butcher, da...   \n",
       "1  Dua pembuat mobil terbesar di dunia mengatakan...   \n",
       "2  Menurut Pusat Pengendalian dan Pencegahan Peny...   \n",
       "3  Badai tropis berkembang pesat di Teluk Meksiko...   \n",
       "4  Perusahaan tidak merinci biaya penggantian dan...   \n",
       "\n",
       "                                           #2 String  \\\n",
       "0  Current Chief Operating Officer Mike Butcher a...   \n",
       "1  Domestic sales at both GM and No. 2 Ford Motor...   \n",
       "2  The Centers for Disease Control and Prevention...   \n",
       "3  A tropical storm rapidly developed in the Gulf...   \n",
       "4  But company officials expect the costs of the ...   \n",
       "\n",
       "                                        #2 Translate  \n",
       "0  Chief Operating Officer saat ini Mike Butcher ...  \n",
       "1  Penjualan domestik di GM dan No. 2 Ford Motor ...  \n",
       "2  Pusat Pengendalian dan Pencegahan Penyakit men...  \n",
       "3  Badai tropis berkembang pesat di Teluk Meksiko...  \n",
       "4  Tetapi pejabat perusahaan mengharapkan biaya p...  "
      ]
     },
     "execution_count": 6,
     "metadata": {},
     "output_type": "execute_result"
    }
   ],
   "source": [
    "d_test.head()"
   ]
  },
  {
   "cell_type": "code",
   "execution_count": 18,
   "id": "1d4d3ee0",
   "metadata": {},
   "outputs": [],
   "source": [
    "d_all_raw = pd.concat((d_train, d_test), axis=0, ignore_index=True)"
   ]
  },
  {
   "cell_type": "code",
   "execution_count": 25,
   "id": "cc25f6ed",
   "metadata": {},
   "outputs": [],
   "source": [
    "d_all1 = d_all_raw[['#1 String', '#1 Translate']].copy()"
   ]
  },
  {
   "cell_type": "code",
   "execution_count": 26,
   "id": "f686d594",
   "metadata": {},
   "outputs": [],
   "source": [
    "d_all2 = d_all_raw[['#2 String', '#2 Translate']].copy()"
   ]
  },
  {
   "cell_type": "code",
   "execution_count": 27,
   "id": "d3c2e08a",
   "metadata": {},
   "outputs": [],
   "source": [
    "d_all1.rename(columns={'#1 String': 'english', '#1 Translate': 'indonesian'}, inplace=True)"
   ]
  },
  {
   "cell_type": "code",
   "execution_count": 28,
   "id": "f8c549c7",
   "metadata": {},
   "outputs": [],
   "source": [
    "d_all2.rename(columns={'#2 String': 'english', '#2 Translate': 'indonesian'}, inplace=True)"
   ]
  },
  {
   "cell_type": "code",
   "execution_count": 31,
   "id": "eeba19a2",
   "metadata": {},
   "outputs": [],
   "source": [
    "d_all = pd.concat((d_all1, d_all2), axis=0, ignore_index=True)"
   ]
  },
  {
   "cell_type": "code",
   "execution_count": 37,
   "id": "7818ff22",
   "metadata": {},
   "outputs": [],
   "source": [
    "train = d_all.iloc[:int(len(d_all)*0.75)]"
   ]
  },
  {
   "cell_type": "code",
   "execution_count": 38,
   "id": "38cb4df8",
   "metadata": {},
   "outputs": [],
   "source": [
    "val = d_all.iloc[int(len(d_all)*0.75):]"
   ]
  },
  {
   "cell_type": "code",
   "execution_count": 39,
   "id": "e5a1c564",
   "metadata": {},
   "outputs": [],
   "source": [
    "train.to_csv('train.csv', index=False)"
   ]
  },
  {
   "cell_type": "code",
   "execution_count": 40,
   "id": "6f224dfb",
   "metadata": {},
   "outputs": [],
   "source": [
    "val.to_csv('validation.csv', index=False)"
   ]
  },
  {
   "cell_type": "code",
   "execution_count": null,
   "id": "53424cd7",
   "metadata": {},
   "outputs": [],
   "source": []
  }
 ],
 "metadata": {
  "kernelspec": {
   "display_name": "Python 3",
   "language": "python",
   "name": "python3"
  },
  "language_info": {
   "codemirror_mode": {
    "name": "ipython",
    "version": 3
   },
   "file_extension": ".py",
   "mimetype": "text/x-python",
   "name": "python",
   "nbconvert_exporter": "python",
   "pygments_lexer": "ipython3",
   "version": "3.7.3"
  }
 },
 "nbformat": 4,
 "nbformat_minor": 5
}
