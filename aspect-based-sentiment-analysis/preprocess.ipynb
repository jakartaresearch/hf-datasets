{
 "cells": [
  {
   "cell_type": "code",
   "execution_count": 1,
   "id": "bf537ba2",
   "metadata": {},
   "outputs": [],
   "source": [
    "import json"
   ]
  },
  {
   "cell_type": "code",
   "execution_count": 2,
   "id": "c71eb024",
   "metadata": {},
   "outputs": [],
   "source": [
    "with open('data/laptop/Laptops_Train.json', 'r') as f:\n",
    "    contents = json.load(f)"
   ]
  },
  {
   "cell_type": "code",
   "execution_count": 3,
   "id": "92985fa4",
   "metadata": {},
   "outputs": [],
   "source": [
    "for idx, row in enumerate(contents):\n",
    "    break"
   ]
  },
  {
   "cell_type": "code",
   "execution_count": 4,
   "id": "a5880d51",
   "metadata": {},
   "outputs": [
    {
     "data": {
      "text/plain": [
       "{'id': '2339',\n",
       " 'text': 'I charge it at night and skip taking the cord with me because of the good battery life.',\n",
       " 'aspects': [{'term': 'cord', 'polarity': 'neutral', 'from': '41', 'to': '45'},\n",
       "  {'term': 'battery life', 'polarity': 'positive', 'from': '74', 'to': '86'}]}"
      ]
     },
     "execution_count": 4,
     "metadata": {},
     "output_type": "execute_result"
    }
   ],
   "source": [
    "row"
   ]
  },
  {
   "cell_type": "code",
   "execution_count": 5,
   "id": "48e7b4ce",
   "metadata": {},
   "outputs": [],
   "source": [
    "from datasets import load_dataset"
   ]
  },
  {
   "cell_type": "code",
   "execution_count": 7,
   "id": "6c5b12b3",
   "metadata": {},
   "outputs": [
    {
     "name": "stdout",
     "output_type": "stream",
     "text": [
      "Downloading and preparing dataset xtreme/PAN-X.id (download: 223.28 MiB, generated: 5.87 MiB, post-processed: Unknown size, total: 229.15 MiB) to C:\\Users\\Andreas Chandra\\.cache\\huggingface\\datasets\\xtreme\\PAN-X.id\\1.0.0\\7bf67e71297af51aebad531f84e824cf5c995d9ce994485f7cd2e90d9cc4d555...\n"
     ]
    },
    {
     "data": {
      "application/vnd.jupyter.widget-view+json": {
       "model_id": "f4ccc086622a4af88a3a0cb5452018d3",
       "version_major": 2,
       "version_minor": 0
      },
      "text/plain": [
       "Downloading:   0%|          | 0.00/234M [00:00<?, ?B/s]"
      ]
     },
     "metadata": {},
     "output_type": "display_data"
    },
    {
     "data": {
      "application/vnd.jupyter.widget-view+json": {
       "model_id": "",
       "version_major": 2,
       "version_minor": 0
      },
      "text/plain": [
       "0 examples [00:00, ? examples/s]"
      ]
     },
     "metadata": {},
     "output_type": "display_data"
    },
    {
     "data": {
      "application/vnd.jupyter.widget-view+json": {
       "model_id": "",
       "version_major": 2,
       "version_minor": 0
      },
      "text/plain": [
       "0 examples [00:00, ? examples/s]"
      ]
     },
     "metadata": {},
     "output_type": "display_data"
    },
    {
     "data": {
      "application/vnd.jupyter.widget-view+json": {
       "model_id": "",
       "version_major": 2,
       "version_minor": 0
      },
      "text/plain": [
       "0 examples [00:00, ? examples/s]"
      ]
     },
     "metadata": {},
     "output_type": "display_data"
    },
    {
     "name": "stdout",
     "output_type": "stream",
     "text": [
      "Dataset xtreme downloaded and prepared to C:\\Users\\Andreas Chandra\\.cache\\huggingface\\datasets\\xtreme\\PAN-X.id\\1.0.0\\7bf67e71297af51aebad531f84e824cf5c995d9ce994485f7cd2e90d9cc4d555. Subsequent calls will reuse this data.\n"
     ]
    }
   ],
   "source": [
    "panx_id = load_dataset(\"xtreme\", name=\"PAN-X.id\")"
   ]
  },
  {
   "cell_type": "code",
   "execution_count": null,
   "id": "31d7d553",
   "metadata": {},
   "outputs": [],
   "source": [
    "panx_id['']"
   ]
  }
 ],
 "metadata": {
  "kernelspec": {
   "display_name": "Python 3",
   "language": "python",
   "name": "python3"
  },
  "language_info": {
   "codemirror_mode": {
    "name": "ipython",
    "version": 3
   },
   "file_extension": ".py",
   "mimetype": "text/x-python",
   "name": "python",
   "nbconvert_exporter": "python",
   "pygments_lexer": "ipython3",
   "version": "3.7.3"
  }
 },
 "nbformat": 4,
 "nbformat_minor": 5
}
