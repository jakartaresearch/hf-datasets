{
 "cells": [
  {
   "cell_type": "code",
   "execution_count": 1,
   "id": "7d3e8e64",
   "metadata": {},
   "outputs": [],
   "source": [
    "from datasets import load_dataset"
   ]
  },
  {
   "cell_type": "code",
   "execution_count": 7,
   "id": "3db19918",
   "metadata": {},
   "outputs": [
    {
     "name": "stdout",
     "output_type": "stream",
     "text": [
      "Downloading and preparing dataset absa/laptop (download: 694.26 KiB, generated: 500.12 KiB, post-processed: Unknown size, total: 1.17 MiB) to C:\\Users\\Andreas Chandra\\.cache\\huggingface\\datasets\\absa\\laptop\\1.0.0\\be8fc34274fbb4fd0e85cec9a212348fa49c117908e5060fd0c5faf54ee5aed0...\n"
     ]
    },
    {
     "data": {
      "application/vnd.jupyter.widget-view+json": {
       "model_id": "acf983dff56c4f28968db5df69b9034e",
       "version_major": 2,
       "version_minor": 0
      },
      "text/plain": [
       "Downloading:   0%|          | 0.00/568k [00:00<?, ?B/s]"
      ]
     },
     "metadata": {},
     "output_type": "display_data"
    },
    {
     "data": {
      "application/vnd.jupyter.widget-view+json": {
       "model_id": "4eb13a970ae24e0391449ede26ec16c3",
       "version_major": 2,
       "version_minor": 0
      },
      "text/plain": [
       "Downloading:   0%|          | 0.00/143k [00:00<?, ?B/s]"
      ]
     },
     "metadata": {},
     "output_type": "display_data"
    },
    {
     "data": {
      "application/vnd.jupyter.widget-view+json": {
       "model_id": "",
       "version_major": 2,
       "version_minor": 0
      },
      "text/plain": [
       "0 examples [00:00, ? examples/s]"
      ]
     },
     "metadata": {},
     "output_type": "display_data"
    },
    {
     "data": {
      "application/vnd.jupyter.widget-view+json": {
       "model_id": "",
       "version_major": 2,
       "version_minor": 0
      },
      "text/plain": [
       "0 examples [00:00, ? examples/s]"
      ]
     },
     "metadata": {},
     "output_type": "display_data"
    },
    {
     "name": "stdout",
     "output_type": "stream",
     "text": [
      "Dataset absa downloaded and prepared to C:\\Users\\Andreas Chandra\\.cache\\huggingface\\datasets\\absa\\laptop\\1.0.0\\be8fc34274fbb4fd0e85cec9a212348fa49c117908e5060fd0c5faf54ee5aed0. Subsequent calls will reuse this data.\n"
     ]
    }
   ],
   "source": [
    "absa = load_dataset('jakartaresearch/semeval-absa', name='laptop')"
   ]
  },
  {
   "cell_type": "code",
   "execution_count": 8,
   "id": "6af5db61",
   "metadata": {},
   "outputs": [
    {
     "data": {
      "text/plain": [
       "DatasetDict({\n",
       "    train: Dataset({\n",
       "        features: ['aspects', 'id', 'text'],\n",
       "        num_rows: 3048\n",
       "    })\n",
       "    validation: Dataset({\n",
       "        features: ['aspects', 'id', 'text'],\n",
       "        num_rows: 800\n",
       "    })\n",
       "})"
      ]
     },
     "execution_count": 8,
     "metadata": {},
     "output_type": "execute_result"
    }
   ],
   "source": [
    "absa"
   ]
  },
  {
   "cell_type": "code",
   "execution_count": null,
   "id": "235ae83e",
   "metadata": {},
   "outputs": [],
   "source": []
  }
 ],
 "metadata": {
  "kernelspec": {
   "display_name": "Python 3",
   "language": "python",
   "name": "python3"
  },
  "language_info": {
   "codemirror_mode": {
    "name": "ipython",
    "version": 3
   },
   "file_extension": ".py",
   "mimetype": "text/x-python",
   "name": "python",
   "nbconvert_exporter": "python",
   "pygments_lexer": "ipython3",
   "version": "3.7.3"
  }
 },
 "nbformat": 4,
 "nbformat_minor": 5
}
