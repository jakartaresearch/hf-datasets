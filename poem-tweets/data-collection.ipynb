{
 "cells": [
  {
   "cell_type": "code",
   "execution_count": null,
   "id": "98cdb651",
   "metadata": {},
   "outputs": [],
   "source": [
    "import os\n",
    "import glob\n",
    "import json\n",
    "import time\n",
    "import pickle\n",
    "\n",
    "import tweepy\n",
    "import pandas as pd\n",
    "import concurrent.futures\n",
    "from tqdm import tqdm, notebook\n",
    "\n",
    "from itertools import compress \n",
    "from datetime import datetime"
   ]
  },
  {
   "cell_type": "code",
   "execution_count": null,
   "id": "569797b1",
   "metadata": {},
   "outputs": [],
   "source": [
    "class MultiTweets():\n",
    "    def __init__(self, keys_paths, usernames):\n",
    "        self.keys = self.read_key(keys_paths)\n",
    "        self.usernames = usernames\n",
    "        self.apis = self.auth_twitter()\n",
    "        self.api_statuses = [True] * len(self.apis)\n",
    "\n",
    "    def read_key(self, key_paths):\n",
    "        return [pickle.load(open(path, 'rb')) for path in key_paths]\n",
    "    \n",
    "    def auth_twitter(self):\n",
    "        api_list = []\n",
    "        for key in self.keys:\n",
    "            auth = tweepy.OAuthHandler(key[\"api_key\"], key[\"api_secret_key\"])\n",
    "            auth.set_access_token(key[\"access_token\"], key[\"access_token_secret\"])\n",
    "            api = tweepy.API(auth)\n",
    "            \n",
    "            api_list.append(api)\n",
    "            \n",
    "        return api_list\n",
    "    \n",
    "    def get_free_token(self):\n",
    "        idx_tokens = list(compress(range(len(self.api_statuses)), self.api_statuses))\n",
    "        \n",
    "        if len(idx_tokens) > 0:\n",
    "            index = idx_tokens[0]\n",
    "            return self.apis[index], index\n",
    "        else:\n",
    "            return None, None\n",
    "\n",
    "    def output(self, data, path_dir, filename):\n",
    "        \n",
    "        try:\n",
    "            with open(os.path.join(path_dir, filename + '.json'), 'w') as f:\n",
    "                f.write(json.dumps(data))\n",
    "        except:\n",
    "            try:\n",
    "                with open(os.path.join(path_dir, filename + '.json'), 'w') as f:\n",
    "                    f.write(data)\n",
    "            except:\n",
    "                pickle.dump(data, open(os.path.join(path_dir, filename + '.pkl'), 'wb'))\n",
    "                \n",
    "    def limit_handled(self, cursor):\n",
    "        while True:\n",
    "            try:\n",
    "                yield cursor.next()\n",
    "            except tweepy.RateLimitError:\n",
    "                print('\\tRateLimit', datetime.today().strftime(\"\\t%H:%M:%S %d-%m-%Y\"))\n",
    "                time.sleep(15 * 60)\n",
    "            except tweepy.TweepError as e:\n",
    "                msg = e\n",
    "                if \"Failed to send request\" in msg.reason:\n",
    "                    pass\n",
    "                elif '429' in msg.reason:\n",
    "                    print('\\tRateLimit', datetime.today().strftime(\"\\t%H:%M:%S %d-%m-%Y\"))\n",
    "                    time.sleep(15 * 60)\n",
    "                else:\n",
    "                    return\n",
    "            except StopIteration:\n",
    "                return\n",
    "        \n",
    "    def get_user_timeline(self, username, api, index_token, total_tweets):\n",
    "        all_tweets = []\n",
    "        for tweet in self.limit_handled(tweepy.Cursor(api.user_timeline, username).items(total_tweets)):\n",
    "            all_tweets.append(tweet._json)\n",
    "            \n",
    "            if (len(all_tweets) % 100) == 0:\n",
    "                len_tweets = len(all_tweets)\n",
    "                print(f\"{username} Tweets Collected: {len_tweets}\")\n",
    "        \n",
    "        self.output(all_tweets, './raw', username)\n",
    "            \n",
    "        self.api_statuses[index_token] = True"
   ]
  },
  {
   "cell_type": "code",
   "execution_count": null,
   "id": "f196ec3d",
   "metadata": {},
   "outputs": [],
   "source": [
    "RESOURCE_PATH = '../../adi-buzzer'"
   ]
  },
  {
   "cell_type": "code",
   "execution_count": null,
   "id": "9a378158",
   "metadata": {},
   "outputs": [],
   "source": [
    "usernames = {\n",
    "    \"PuisiDariHati\": 5000,\n",
    "    \"Bait_Puisi\": 5000,\n",
    "    \"LenteraSajak\": 5000\n",
    "}"
   ]
  },
  {
   "cell_type": "code",
   "execution_count": null,
   "id": "a535d61e",
   "metadata": {},
   "outputs": [],
   "source": [
    "data_dir_path = os.path.join(RESOURCE_PATH, 'data')\n",
    "key_dir_path = os.path.join(RESOURCE_PATH, 'keys')"
   ]
  },
  {
   "cell_type": "code",
   "execution_count": null,
   "id": "4eee2e59",
   "metadata": {},
   "outputs": [],
   "source": [
    "key_paths = glob.glob(key_dir_path + '/*')"
   ]
  },
  {
   "cell_type": "code",
   "execution_count": null,
   "id": "2a8abf1a",
   "metadata": {},
   "outputs": [],
   "source": [
    "multitweets = MultiTweets(key_paths, list(usernames.keys()))"
   ]
  },
  {
   "cell_type": "code",
   "execution_count": null,
   "id": "2eda7d8d",
   "metadata": {
    "scrolled": true
   },
   "outputs": [],
   "source": [
    "with concurrent.futures.ThreadPoolExecutor(max_workers=10) as executor:\n",
    "    print(\"usernames\", usernames)\n",
    "    for username, total_tweets in usernames.items():\n",
    "        api, index_token = multitweets.get_free_token()\n",
    "        multitweets.api_statuses[index_token] = False    \n",
    "        executor.submit(multitweets.get_user_timeline, username, api, index_token, total_tweets)"
   ]
  },
  {
   "cell_type": "code",
   "execution_count": null,
   "id": "54fcb1e6",
   "metadata": {},
   "outputs": [],
   "source": [
    "multitweets.get_user_timeline(username, api, index_token, total_tweets)"
   ]
  },
  {
   "cell_type": "code",
   "execution_count": null,
   "id": "27d48e6d",
   "metadata": {},
   "outputs": [],
   "source": []
  }
 ],
 "metadata": {
  "kernelspec": {
   "display_name": "Python 3",
   "language": "python",
   "name": "python3"
  },
  "language_info": {
   "codemirror_mode": {
    "name": "ipython",
    "version": 3
   },
   "file_extension": ".py",
   "mimetype": "text/x-python",
   "name": "python",
   "nbconvert_exporter": "python",
   "pygments_lexer": "ipython3",
   "version": "3.7.3"
  }
 },
 "nbformat": 4,
 "nbformat_minor": 5
}
