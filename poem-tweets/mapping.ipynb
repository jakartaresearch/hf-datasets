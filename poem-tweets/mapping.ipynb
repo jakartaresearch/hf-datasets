{
 "cells": [
  {
   "cell_type": "code",
   "execution_count": 47,
   "id": "0996dde6",
   "metadata": {},
   "outputs": [],
   "source": [
    "import re\n",
    "import json, glob\n",
    "import pandas as pd"
   ]
  },
  {
   "cell_type": "code",
   "execution_count": 29,
   "id": "18ca1144",
   "metadata": {},
   "outputs": [],
   "source": [
    "filenames = glob.glob('./raw/*')"
   ]
  },
  {
   "cell_type": "code",
   "execution_count": 31,
   "id": "88072120",
   "metadata": {},
   "outputs": [],
   "source": [
    "all_tweets = []\n",
    "for file in filenames:\n",
    "    with open(file, 'r') as f:\n",
    "        mags_ap = json.load(f)\n",
    "        all_tweets.extend(mags_ap)"
   ]
  },
  {
   "cell_type": "code",
   "execution_count": 32,
   "id": "74cd5c39",
   "metadata": {},
   "outputs": [
    {
     "data": {
      "text/plain": [
       "16427"
      ]
     },
     "execution_count": 32,
     "metadata": {},
     "output_type": "execute_result"
    }
   ],
   "source": [
    "len(all_tweets)"
   ]
  },
  {
   "cell_type": "code",
   "execution_count": 33,
   "id": "57b80d26",
   "metadata": {},
   "outputs": [],
   "source": [
    "d_tweets = pd.DataFrame(all_tweets)"
   ]
  },
  {
   "cell_type": "code",
   "execution_count": 37,
   "id": "b4f679e4",
   "metadata": {},
   "outputs": [
    {
     "data": {
      "text/plain": [
       "Index(['created_at', 'id', 'id_str', 'text', 'truncated', 'entities', 'source',\n",
       "       'in_reply_to_status_id', 'in_reply_to_status_id_str',\n",
       "       'in_reply_to_user_id', 'in_reply_to_user_id_str',\n",
       "       'in_reply_to_screen_name', 'user', 'geo', 'coordinates', 'place',\n",
       "       'contributors', 'retweeted_status', 'is_quote_status', 'retweet_count',\n",
       "       'favorite_count', 'favorited', 'retweeted', 'lang', 'extended_entities',\n",
       "       'possibly_sensitive', 'quoted_status_id', 'quoted_status_id_str',\n",
       "       'quoted_status'],\n",
       "      dtype='object')"
      ]
     },
     "execution_count": 37,
     "metadata": {},
     "output_type": "execute_result"
    }
   ],
   "source": [
    "d_tweets.columns"
   ]
  },
  {
   "cell_type": "code",
   "execution_count": 39,
   "id": "f719289c",
   "metadata": {},
   "outputs": [],
   "source": [
    "d_tweets['screen_name'] = d_tweets.user.apply(lambda x: x['screen_name'])"
   ]
  },
  {
   "cell_type": "code",
   "execution_count": 61,
   "id": "c5b7a0a0",
   "metadata": {},
   "outputs": [],
   "source": [
    "d_dataset = d_tweets[['id', 'screen_name', 'text']]"
   ]
  },
  {
   "cell_type": "code",
   "execution_count": 64,
   "id": "004c0bd2",
   "metadata": {},
   "outputs": [],
   "source": [
    "d_dataset.to_csv('train.csv', index=False)"
   ]
  },
  {
   "cell_type": "code",
   "execution_count": null,
   "id": "d8a1df30",
   "metadata": {},
   "outputs": [],
   "source": []
  }
 ],
 "metadata": {
  "kernelspec": {
   "display_name": "Python 3",
   "language": "python",
   "name": "python3"
  },
  "language_info": {
   "codemirror_mode": {
    "name": "ipython",
    "version": 3
   },
   "file_extension": ".py",
   "mimetype": "text/x-python",
   "name": "python",
   "nbconvert_exporter": "python",
   "pygments_lexer": "ipython3",
   "version": "3.7.3"
  }
 },
 "nbformat": 4,
 "nbformat_minor": 5
}
