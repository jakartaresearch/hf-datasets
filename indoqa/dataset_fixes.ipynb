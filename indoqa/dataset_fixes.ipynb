{
 "cells": [
  {
   "cell_type": "code",
   "execution_count": 1,
   "id": "c4612ecb",
   "metadata": {},
   "outputs": [],
   "source": [
    "import pandas as pd"
   ]
  },
  {
   "cell_type": "code",
   "execution_count": 2,
   "id": "60084052",
   "metadata": {},
   "outputs": [],
   "source": [
    "d_val = pd.read_json('df_val.json')"
   ]
  },
  {
   "cell_type": "code",
   "execution_count": 3,
   "id": "628067a1",
   "metadata": {},
   "outputs": [
    {
     "data": {
      "text/plain": [
       "(1084, 7)"
      ]
     },
     "execution_count": 3,
     "metadata": {},
     "output_type": "execute_result"
    }
   ],
   "source": [
    "d_val.shape"
   ]
  },
  {
   "cell_type": "code",
   "execution_count": 4,
   "id": "ea6edd5c",
   "metadata": {},
   "outputs": [
    {
     "data": {
      "text/html": [
       "<div>\n",
       "<style scoped>\n",
       "    .dataframe tbody tr th:only-of-type {\n",
       "        vertical-align: middle;\n",
       "    }\n",
       "\n",
       "    .dataframe tbody tr th {\n",
       "        vertical-align: top;\n",
       "    }\n",
       "\n",
       "    .dataframe thead th {\n",
       "        text-align: right;\n",
       "    }\n",
       "</style>\n",
       "<table border=\"1\" class=\"dataframe\">\n",
       "  <thead>\n",
       "    <tr style=\"text-align: right;\">\n",
       "      <th></th>\n",
       "      <th>id</th>\n",
       "      <th>context</th>\n",
       "      <th>question</th>\n",
       "      <th>answer</th>\n",
       "      <th>category</th>\n",
       "      <th>span_start</th>\n",
       "      <th>span_end</th>\n",
       "    </tr>\n",
       "  </thead>\n",
       "  <tbody>\n",
       "    <tr>\n",
       "      <th>0</th>\n",
       "      <td>626qIhrr3hXbXzErP6nHf4L36</td>\n",
       "      <td>Soekarno dan Hatta selaku pimpinan PPKI serta ...</td>\n",
       "      <td>Siapa pemimpin PPKI?</td>\n",
       "      <td>Soekarno dan Ha</td>\n",
       "      <td>SPAN</td>\n",
       "      <td>0</td>\n",
       "      <td>18</td>\n",
       "    </tr>\n",
       "    <tr>\n",
       "      <th>1</th>\n",
       "      <td>1425958dFD204WSt04379</td>\n",
       "      <td>Pada 24 September 2018, BTS menghadiri Pertemu...</td>\n",
       "      <td>Kapan Pertemuan Sidang Umum 2022 dilaksanakan?</td>\n",
       "      <td>None</td>\n",
       "      <td>UNANSWERABLE</td>\n",
       "      <td>-1</td>\n",
       "      <td>-1</td>\n",
       "    </tr>\n",
       "    <tr>\n",
       "      <th>2</th>\n",
       "      <td>2401lBblJQgObznj6i-AaGXg3644</td>\n",
       "      <td>Pada masa pemerintahan khalifah ke-3 yakni Uts...</td>\n",
       "      <td>Keputusan apakah yang diambil Utsman untuk men...</td>\n",
       "      <td>membuat sebuah mushaf standar (menyalin mushaf...</td>\n",
       "      <td>SPAN</td>\n",
       "      <td>303</td>\n",
       "      <td>424</td>\n",
       "    </tr>\n",
       "    <tr>\n",
       "      <th>3</th>\n",
       "      <td>1459Gtt57D0AV39kKJE2bz4b2094</td>\n",
       "      <td>Taman Lapangan Banteng merupakan taman lain ya...</td>\n",
       "      <td>Monumen apa yang ada di Taman Lapangan Banteng?</td>\n",
       "      <td>Monumen Pembebasan Irian Barat</td>\n",
       "      <td>SPAN</td>\n",
       "      <td>125</td>\n",
       "      <td>155</td>\n",
       "    </tr>\n",
       "    <tr>\n",
       "      <th>4</th>\n",
       "      <td>2444WhZ9ERauvkt18jQSbdFq1906</td>\n",
       "      <td>Beberapa alasan mengapa orang mengalami kesuli...</td>\n",
       "      <td>Apakah definisi budaya ?</td>\n",
       "      <td>suatu perangkat rumit nilai-nilai yang dipolar...</td>\n",
       "      <td>SPAN</td>\n",
       "      <td>147</td>\n",
       "      <td>273</td>\n",
       "    </tr>\n",
       "  </tbody>\n",
       "</table>\n",
       "</div>"
      ],
      "text/plain": [
       "                             id  \\\n",
       "0     626qIhrr3hXbXzErP6nHf4L36   \n",
       "1         1425958dFD204WSt04379   \n",
       "2  2401lBblJQgObznj6i-AaGXg3644   \n",
       "3  1459Gtt57D0AV39kKJE2bz4b2094   \n",
       "4  2444WhZ9ERauvkt18jQSbdFq1906   \n",
       "\n",
       "                                             context  \\\n",
       "0  Soekarno dan Hatta selaku pimpinan PPKI serta ...   \n",
       "1  Pada 24 September 2018, BTS menghadiri Pertemu...   \n",
       "2  Pada masa pemerintahan khalifah ke-3 yakni Uts...   \n",
       "3  Taman Lapangan Banteng merupakan taman lain ya...   \n",
       "4  Beberapa alasan mengapa orang mengalami kesuli...   \n",
       "\n",
       "                                            question  \\\n",
       "0                               Siapa pemimpin PPKI?   \n",
       "1     Kapan Pertemuan Sidang Umum 2022 dilaksanakan?   \n",
       "2  Keputusan apakah yang diambil Utsman untuk men...   \n",
       "3    Monumen apa yang ada di Taman Lapangan Banteng?   \n",
       "4                           Apakah definisi budaya ?   \n",
       "\n",
       "                                              answer      category  \\\n",
       "0                                    Soekarno dan Ha          SPAN   \n",
       "1                                               None  UNANSWERABLE   \n",
       "2  membuat sebuah mushaf standar (menyalin mushaf...          SPAN   \n",
       "3                     Monumen Pembebasan Irian Barat          SPAN   \n",
       "4  suatu perangkat rumit nilai-nilai yang dipolar...          SPAN   \n",
       "\n",
       "   span_start  span_end  \n",
       "0           0        18  \n",
       "1          -1        -1  \n",
       "2         303       424  \n",
       "3         125       155  \n",
       "4         147       273  "
      ]
     },
     "execution_count": 4,
     "metadata": {},
     "output_type": "execute_result"
    }
   ],
   "source": [
    "d_val.head()"
   ]
  },
  {
   "cell_type": "code",
   "execution_count": 32,
   "id": "be4b1c23",
   "metadata": {},
   "outputs": [],
   "source": [
    "id_problem = [\n",
    "    \"626qIhrr3hXbXzErP6nHf4L36\",\n",
    "    \"15680LsRjbgzmvowhENg25lB1312\",\n",
    "    \"1634B9b3aVWdJnidGaTwrGNb1147\",\n",
    "    \"2505ckDNFw9yFFW5D_Zn1Sgx1768\",\n",
    "    \"2105xNbUJilw1oNa-ZKAQAFY1492\",\n",
    "    \"2049M8Zsa5bANZ-Ek-qAiTww1649\",\n",
    "    \"855gdvykEbqM9ogm3UIf6ku2734\",\n",
    "    \"629n4MrzUOTOZIvC5v-uHTs27\",\n",
    "    \"2105j8lJG7NIdPNa-ZKAQAFY1493\",\n",
    "    \"972wepQM0WfoPr49Ged8v0v484\",\n",
    "    \"626sqIdy_-8ySZOwFGfvHa-38\",\n",
    "    \"1608Cjwz1f5MVloyXDrYtYD11215\",\n",
    "    \"1373pN1XKVEL69ZhAfqWYK6r753\",\n",
    "    \"627AHz0UVhXk1duy-8SZw9W34\"\n",
    "]"
   ]
  },
  {
   "cell_type": "code",
   "execution_count": 33,
   "id": "90850bba",
   "metadata": {},
   "outputs": [
    {
     "data": {
      "text/plain": [
       "14"
      ]
     },
     "execution_count": 33,
     "metadata": {},
     "output_type": "execute_result"
    }
   ],
   "source": [
    "len(id_problem)"
   ]
  },
  {
   "cell_type": "markdown",
   "id": "fe3dd6f5",
   "metadata": {},
   "source": [
    "## Sampling"
   ]
  },
  {
   "cell_type": "code",
   "execution_count": 59,
   "id": "8bb897b8",
   "metadata": {},
   "outputs": [],
   "source": [
    "sample = d_val[d_val.id == id_problem[13]]"
   ]
  },
  {
   "cell_type": "code",
   "execution_count": 60,
   "id": "3a878169",
   "metadata": {},
   "outputs": [
    {
     "data": {
      "text/html": [
       "<div>\n",
       "<style scoped>\n",
       "    .dataframe tbody tr th:only-of-type {\n",
       "        vertical-align: middle;\n",
       "    }\n",
       "\n",
       "    .dataframe tbody tr th {\n",
       "        vertical-align: top;\n",
       "    }\n",
       "\n",
       "    .dataframe thead th {\n",
       "        text-align: right;\n",
       "    }\n",
       "</style>\n",
       "<table border=\"1\" class=\"dataframe\">\n",
       "  <thead>\n",
       "    <tr style=\"text-align: right;\">\n",
       "      <th></th>\n",
       "      <th>id</th>\n",
       "      <th>context</th>\n",
       "      <th>question</th>\n",
       "      <th>answer</th>\n",
       "      <th>category</th>\n",
       "      <th>span_start</th>\n",
       "      <th>span_end</th>\n",
       "    </tr>\n",
       "  </thead>\n",
       "  <tbody>\n",
       "    <tr>\n",
       "      <th>1047</th>\n",
       "      <td>627AHz0UVhXk1duy-8SZw9W34</td>\n",
       "      <td>Pada tanggal 14 Agustus 1945 Jepang secara res...</td>\n",
       "      <td>Apa yang dijanjikan Jepang kepada sekutu setel...</td>\n",
       "      <td>balikan kekuasaan di Indonesia ke tangan Se</td>\n",
       "      <td>SPAN</td>\n",
       "      <td>184</td>\n",
       "      <td>237</td>\n",
       "    </tr>\n",
       "  </tbody>\n",
       "</table>\n",
       "</div>"
      ],
      "text/plain": [
       "                             id  \\\n",
       "1047  627AHz0UVhXk1duy-8SZw9W34   \n",
       "\n",
       "                                                context  \\\n",
       "1047  Pada tanggal 14 Agustus 1945 Jepang secara res...   \n",
       "\n",
       "                                               question  \\\n",
       "1047  Apa yang dijanjikan Jepang kepada sekutu setel...   \n",
       "\n",
       "                                           answer category  span_start  \\\n",
       "1047  balikan kekuasaan di Indonesia ke tangan Se     SPAN         184   \n",
       "\n",
       "      span_end  \n",
       "1047       237  "
      ]
     },
     "execution_count": 60,
     "metadata": {},
     "output_type": "execute_result"
    }
   ],
   "source": [
    "sample"
   ]
  },
  {
   "cell_type": "code",
   "execution_count": 61,
   "id": "4048186f",
   "metadata": {},
   "outputs": [],
   "source": [
    "sample_dict = sample.to_dict(orient='records')[0]"
   ]
  },
  {
   "cell_type": "code",
   "execution_count": 62,
   "id": "fd38f079",
   "metadata": {},
   "outputs": [
    {
     "data": {
      "text/plain": [
       "{'id': '627AHz0UVhXk1duy-8SZw9W34',\n",
       " 'context': 'Pada tanggal 14 Agustus 1945 Jepang secara resmi menyerah kepada Sekutu di kapal USS Missouri. Tentara dan Angkatan Laut Jepang masih berkuasa di Indonesia karena Jepang berjanji akan mengembalikan kekuasaan di Indonesia ke tangan Sekutu . Sutan Sjahrir, Wikana, Darwis, dan Chaerul Saleh mendengar kabar ini melalui radio BBC. Setelah mendengar desas-desus Jepang bakal bertekuk lutut, golongan muda mendesak golongan tua untuk segera memproklamasikan kemerdekaan Indonesia. Namun golongan tua tidak ingin terburu-buru. Mereka tidak menginginkan terjadinya pertumpahan darah pada saat proklamasi. Konsultasi pun dilakukan dalam bentuk rapat PPKI. Golongan muda tidak menyetujui rapat itu, mengingat PPKI adalah sebuah badan yang dibentuk oleh Jepang. Mereka menginginkan kemerdekaan atas usaha bangsa kita sendiri, bukan pemberian Jepang.',\n",
       " 'question': 'Apa yang dijanjikan Jepang kepada sekutu setelah menyerah?',\n",
       " 'answer': 'balikan kekuasaan di Indonesia ke tangan Se',\n",
       " 'category': 'SPAN',\n",
       " 'span_start': 184,\n",
       " 'span_end': 237}"
      ]
     },
     "execution_count": 62,
     "metadata": {},
     "output_type": "execute_result"
    }
   ],
   "source": [
    "sample_dict"
   ]
  },
  {
   "cell_type": "code",
   "execution_count": 64,
   "id": "538bb190",
   "metadata": {},
   "outputs": [
    {
     "data": {
      "text/plain": [
       "'mengembalikan kekuasaan di Indonesia ke tangan Sekutu'"
      ]
     },
     "execution_count": 64,
     "metadata": {},
     "output_type": "execute_result"
    }
   ],
   "source": [
    "sample_dict['context'][184:237]"
   ]
  },
  {
   "cell_type": "markdown",
   "id": "7f537b12",
   "metadata": {},
   "source": [
    "## Correction"
   ]
  },
  {
   "cell_type": "markdown",
   "id": "97f6fd37",
   "metadata": {},
   "source": [
    "626qIhrr3hXbXzErP6nHf4L36"
   ]
  },
  {
   "cell_type": "code",
   "execution_count": 11,
   "id": "f733129c",
   "metadata": {},
   "outputs": [],
   "source": [
    "d_val.loc[d_val.id == id_problem[0], 'answer'] = 'Soekarno dan Hatta'"
   ]
  },
  {
   "cell_type": "code",
   "execution_count": 12,
   "id": "e772da83",
   "metadata": {},
   "outputs": [
    {
     "data": {
      "text/html": [
       "<div>\n",
       "<style scoped>\n",
       "    .dataframe tbody tr th:only-of-type {\n",
       "        vertical-align: middle;\n",
       "    }\n",
       "\n",
       "    .dataframe tbody tr th {\n",
       "        vertical-align: top;\n",
       "    }\n",
       "\n",
       "    .dataframe thead th {\n",
       "        text-align: right;\n",
       "    }\n",
       "</style>\n",
       "<table border=\"1\" class=\"dataframe\">\n",
       "  <thead>\n",
       "    <tr style=\"text-align: right;\">\n",
       "      <th></th>\n",
       "      <th>id</th>\n",
       "      <th>context</th>\n",
       "      <th>question</th>\n",
       "      <th>answer</th>\n",
       "      <th>category</th>\n",
       "      <th>span_start</th>\n",
       "      <th>span_end</th>\n",
       "    </tr>\n",
       "  </thead>\n",
       "  <tbody>\n",
       "    <tr>\n",
       "      <th>0</th>\n",
       "      <td>626qIhrr3hXbXzErP6nHf4L36</td>\n",
       "      <td>Soekarno dan Hatta selaku pimpinan PPKI serta ...</td>\n",
       "      <td>Siapa pemimpin PPKI?</td>\n",
       "      <td>Soekarno dan Hatta</td>\n",
       "      <td>SPAN</td>\n",
       "      <td>0</td>\n",
       "      <td>18</td>\n",
       "    </tr>\n",
       "  </tbody>\n",
       "</table>\n",
       "</div>"
      ],
      "text/plain": [
       "                          id  \\\n",
       "0  626qIhrr3hXbXzErP6nHf4L36   \n",
       "\n",
       "                                             context              question  \\\n",
       "0  Soekarno dan Hatta selaku pimpinan PPKI serta ...  Siapa pemimpin PPKI?   \n",
       "\n",
       "               answer category  span_start  span_end  \n",
       "0  Soekarno dan Hatta     SPAN           0        18  "
      ]
     },
     "execution_count": 12,
     "metadata": {},
     "output_type": "execute_result"
    }
   ],
   "source": [
    "d_val.loc[d_val.id == id_problem[0]]"
   ]
  },
  {
   "cell_type": "markdown",
   "id": "0a2ba6db",
   "metadata": {},
   "source": [
    "---"
   ]
  },
  {
   "cell_type": "code",
   "execution_count": 13,
   "id": "28ae4552",
   "metadata": {},
   "outputs": [],
   "source": [
    "d_val.loc[d_val.id == id_problem[1], 'answer'] = 'karena dia tidak ingin memasukkan unsur komunis dalam kabinet pada waktu itu.'"
   ]
  },
  {
   "cell_type": "markdown",
   "id": "bed33974",
   "metadata": {},
   "source": [
    "---"
   ]
  },
  {
   "cell_type": "code",
   "execution_count": 14,
   "id": "28248ed2",
   "metadata": {},
   "outputs": [
    {
     "data": {
      "text/plain": [
       "93    69\n",
       "Name: span_start, dtype: int64"
      ]
     },
     "execution_count": 14,
     "metadata": {},
     "output_type": "execute_result"
    }
   ],
   "source": [
    "d_val.loc[d_val.id == id_problem[1], 'span_start']"
   ]
  },
  {
   "cell_type": "code",
   "execution_count": 15,
   "id": "4080174d",
   "metadata": {},
   "outputs": [
    {
     "data": {
      "text/plain": [
       "93    145\n",
       "Name: span_end, dtype: int64"
      ]
     },
     "execution_count": 15,
     "metadata": {},
     "output_type": "execute_result"
    }
   ],
   "source": [
    "d_val.loc[d_val.id == id_problem[1], 'span_end']"
   ]
  },
  {
   "cell_type": "markdown",
   "id": "f09069c8",
   "metadata": {},
   "source": [
    "---"
   ]
  },
  {
   "cell_type": "code",
   "execution_count": 16,
   "id": "2ff3bf8b",
   "metadata": {},
   "outputs": [],
   "source": [
    "d_val.loc[d_val.id == id_problem[2], 'question'] = 'Mengapa Singapura mengirimkan 3 helikopter CH-47 Chinook ke Louisiana?'"
   ]
  },
  {
   "cell_type": "markdown",
   "id": "a69ff4ec",
   "metadata": {},
   "source": [
    "---"
   ]
  },
  {
   "cell_type": "code",
   "execution_count": 17,
   "id": "1646c1cb",
   "metadata": {},
   "outputs": [],
   "source": [
    "d_val.loc[d_val.id == id_problem[3], 'answer'] = 'Antara 300.000 sampai satu juta orang Indonesia'"
   ]
  },
  {
   "cell_type": "code",
   "execution_count": 18,
   "id": "97ae1878",
   "metadata": {},
   "outputs": [
    {
     "data": {
      "text/plain": [
       "199    Antara 300.000 sampai satu juta orang Indonesia\n",
       "Name: answer, dtype: object"
      ]
     },
     "execution_count": 18,
     "metadata": {},
     "output_type": "execute_result"
    }
   ],
   "source": [
    "d_val.loc[d_val.id == id_problem[3], 'answer']"
   ]
  },
  {
   "cell_type": "markdown",
   "id": "8192409a",
   "metadata": {},
   "source": [
    "---"
   ]
  },
  {
   "cell_type": "code",
   "execution_count": 19,
   "id": "5fa442a3",
   "metadata": {},
   "outputs": [],
   "source": [
    "d_val.loc[d_val.id == id_problem[4], 'answer'] = 'karena kekurangan biaya'"
   ]
  },
  {
   "cell_type": "markdown",
   "id": "fe24c027",
   "metadata": {},
   "source": [
    "---"
   ]
  },
  {
   "cell_type": "code",
   "execution_count": 20,
   "id": "1497b405",
   "metadata": {},
   "outputs": [],
   "source": [
    "d_val.loc[d_val.id == id_problem[5], 'answer'] = 'tujuh sampai delapan'"
   ]
  },
  {
   "cell_type": "markdown",
   "id": "106f4e2f",
   "metadata": {},
   "source": [
    "---"
   ]
  },
  {
   "cell_type": "code",
   "execution_count": 21,
   "id": "e64b12c2",
   "metadata": {},
   "outputs": [],
   "source": [
    "d_val.loc[d_val.id == id_problem[6], 'answer'] = 'ledakan kelahiran pascaperang diikuti dengan penurunan tingkat kelahiran'"
   ]
  },
  {
   "cell_type": "markdown",
   "id": "0d8e7d8f",
   "metadata": {},
   "source": [
    "---"
   ]
  },
  {
   "cell_type": "code",
   "execution_count": 22,
   "id": "c95e3222",
   "metadata": {},
   "outputs": [],
   "source": [
    "d_val.loc[d_val.id == id_problem[7], 'answer'] = 'anggota PETA'"
   ]
  },
  {
   "cell_type": "markdown",
   "id": "9f3ba774",
   "metadata": {},
   "source": [
    "---"
   ]
  },
  {
   "cell_type": "code",
   "execution_count": 23,
   "id": "f2e69419",
   "metadata": {},
   "outputs": [],
   "source": [
    "d_val.loc[d_val.id == id_problem[8], 'answer'] = 'Alfiah'"
   ]
  },
  {
   "cell_type": "code",
   "execution_count": 24,
   "id": "afb47666",
   "metadata": {},
   "outputs": [],
   "source": [
    "d_val.loc[d_val.id == id_problem[8], 'span_start'] = 356"
   ]
  },
  {
   "cell_type": "code",
   "execution_count": 25,
   "id": "2520db9d",
   "metadata": {},
   "outputs": [],
   "source": [
    "d_val.loc[d_val.id == id_problem[8], 'span_end'] = 362"
   ]
  },
  {
   "cell_type": "markdown",
   "id": "e5d665c1",
   "metadata": {},
   "source": [
    "---"
   ]
  },
  {
   "cell_type": "code",
   "execution_count": 27,
   "id": "c3af9e52",
   "metadata": {},
   "outputs": [],
   "source": [
    "d_val.loc[d_val.id == id_problem[9], 'answer'] = 'Serma Marcus Latuperissa dan Ida Bagus Surya Tenaya'"
   ]
  },
  {
   "cell_type": "markdown",
   "id": "18837955",
   "metadata": {},
   "source": [
    "---"
   ]
  },
  {
   "cell_type": "code",
   "execution_count": 42,
   "id": "23f17e28",
   "metadata": {},
   "outputs": [],
   "source": [
    "d_val.loc[d_val.id == id_problem[10], 'answer'] = 'Marsekal Hisaichi Terauchi'"
   ]
  },
  {
   "cell_type": "markdown",
   "id": "735fe6fd",
   "metadata": {},
   "source": [
    "---"
   ]
  },
  {
   "cell_type": "code",
   "execution_count": 49,
   "id": "e7fe097d",
   "metadata": {},
   "outputs": [],
   "source": [
    "d_val.loc[d_val.id == id_problem[11], 'answer'] = 'untuk mencari lokasi strategis untuk membangun pelabuhan di mulut Selat Malaka'"
   ]
  },
  {
   "cell_type": "markdown",
   "id": "81209394",
   "metadata": {},
   "source": [
    "---"
   ]
  },
  {
   "cell_type": "code",
   "execution_count": 57,
   "id": "ab65a321",
   "metadata": {},
   "outputs": [],
   "source": [
    "d_val.loc[d_val.id == id_problem[12], 'answer'] = 'negara dengan penganut Islam terbanyak di dunia'"
   ]
  },
  {
   "cell_type": "markdown",
   "id": "a5c962d3",
   "metadata": {},
   "source": [
    "---"
   ]
  },
  {
   "cell_type": "code",
   "execution_count": 65,
   "id": "f19c959d",
   "metadata": {},
   "outputs": [],
   "source": [
    "d_val.loc[d_val.id == id_problem[13], 'answer'] = 'mengembalikan kekuasaan di Indonesia ke tangan Sekutu'"
   ]
  },
  {
   "cell_type": "markdown",
   "id": "3c18b6df",
   "metadata": {},
   "source": [
    "### Save to json"
   ]
  },
  {
   "cell_type": "code",
   "execution_count": 72,
   "id": "2708520f",
   "metadata": {},
   "outputs": [],
   "source": [
    "d_val.to_json(\"df_val_2.json\", orient='records')"
   ]
  },
  {
   "cell_type": "code",
   "execution_count": null,
   "id": "d777bef9",
   "metadata": {},
   "outputs": [],
   "source": []
  }
 ],
 "metadata": {
  "kernelspec": {
   "display_name": "Python 3",
   "language": "python",
   "name": "python3"
  },
  "language_info": {
   "codemirror_mode": {
    "name": "ipython",
    "version": 3
   },
   "file_extension": ".py",
   "mimetype": "text/x-python",
   "name": "python",
   "nbconvert_exporter": "python",
   "pygments_lexer": "ipython3",
   "version": "3.7.3"
  }
 },
 "nbformat": 4,
 "nbformat_minor": 5
}
