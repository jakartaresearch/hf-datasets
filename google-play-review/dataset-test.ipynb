{
 "cells": [
  {
   "cell_type": "code",
   "execution_count": 2,
   "id": "5961e7ff",
   "metadata": {},
   "outputs": [
    {
     "name": "stderr",
     "output_type": "stream",
     "text": [
      "Using custom data configuration default\n"
     ]
    },
    {
     "name": "stdout",
     "output_type": "stream",
     "text": [
      "Downloading and preparing dataset google_play_review/default (download: 636.99 KiB, generated: 681.31 KiB, post-processed: Unknown size, total: 1.29 MiB) to C:\\Users\\Andreas Chandra\\.cache\\huggingface\\datasets\\google_play_review\\default\\1.0.0\\c4760ddf49eac26d54b11fd40317924264d90f8a5dc53cac16ca09aa991836c8...\n"
     ]
    },
    {
     "data": {
      "application/vnd.jupyter.widget-view+json": {
       "model_id": "",
       "version_major": 2,
       "version_minor": 0
      },
      "text/plain": [
       "0 examples [00:00, ? examples/s]"
      ]
     },
     "metadata": {},
     "output_type": "display_data"
    },
    {
     "data": {
      "application/vnd.jupyter.widget-view+json": {
       "model_id": "",
       "version_major": 2,
       "version_minor": 0
      },
      "text/plain": [
       "0 examples [00:00, ? examples/s]"
      ]
     },
     "metadata": {},
     "output_type": "display_data"
    },
    {
     "name": "stdout",
     "output_type": "stream",
     "text": [
      "Dataset google_play_review downloaded and prepared to C:\\Users\\Andreas Chandra\\.cache\\huggingface\\datasets\\google_play_review\\default\\1.0.0\\c4760ddf49eac26d54b11fd40317924264d90f8a5dc53cac16ca09aa991836c8. Subsequent calls will reuse this data.\n",
      "DatasetDict({\n",
      "    train: Dataset({\n",
      "        features: ['label', 'stars', 'text'],\n",
      "        num_rows: 7028\n",
      "    })\n",
      "    validation: Dataset({\n",
      "        features: ['label', 'stars', 'text'],\n",
      "        num_rows: 3012\n",
      "    })\n",
      "})\n"
     ]
    }
   ],
   "source": [
    "from datasets import load_dataset\n",
    "\n",
    "dataset = load_dataset(\"jakartaresearch/google-play-review\")\n",
    "print(dataset)"
   ]
  },
  {
   "cell_type": "code",
   "execution_count": 10,
   "id": "f0b15ab5",
   "metadata": {},
   "outputs": [
    {
     "data": {
      "text/plain": [
       "{'label': ['neg', 'pos', 'neg', 'neg', 'pos'],\n",
       " 'stars': [4, 5, 3, 2, 5],\n",
       " 'text': [' Halo\\n blibli. Sedikit saran untuk gratis ongkirnya yg minimum 200rb peritem \\nDi ubah jadi minum dr total belanja 200rb. Jd bisa beli produk yg sama \\ndengn jumlah bnyak. Atau pun bisa beli produk yg berbeda dlam jumlah \\nbanyak. Sy harap bisa di terapkan  Makasih',\n",
       "  ' So far so good. Respon cepat.',\n",
       "  ' thank',\n",
       "  ' Aplikasi sering not responding di hp saya (asus zenfone t001f)',\n",
       "  ' Gak ada komentar.']}"
      ]
     },
     "execution_count": 10,
     "metadata": {},
     "output_type": "execute_result"
    }
   ],
   "source": [
    "dataset['train'][:5]"
   ]
  },
  {
   "cell_type": "code",
   "execution_count": 5,
   "id": "d135baea",
   "metadata": {},
   "outputs": [
    {
     "data": {
      "text/plain": [
       "''"
      ]
     },
     "execution_count": 5,
     "metadata": {},
     "output_type": "execute_result"
    }
   ],
   "source": [
    "\"\""
   ]
  },
  {
   "cell_type": "code",
   "execution_count": null,
   "id": "8266502a",
   "metadata": {},
   "outputs": [],
   "source": []
  },
  {
   "cell_type": "code",
   "execution_count": null,
   "id": "92de8bcc",
   "metadata": {},
   "outputs": [],
   "source": []
  }
 ],
 "metadata": {
  "kernelspec": {
   "display_name": "Python 3",
   "language": "python",
   "name": "python3"
  },
  "language_info": {
   "codemirror_mode": {
    "name": "ipython",
    "version": 3
   },
   "file_extension": ".py",
   "mimetype": "text/x-python",
   "name": "python",
   "nbconvert_exporter": "python",
   "pygments_lexer": "ipython3",
   "version": "3.7.3"
  }
 },
 "nbformat": 4,
 "nbformat_minor": 5
}
