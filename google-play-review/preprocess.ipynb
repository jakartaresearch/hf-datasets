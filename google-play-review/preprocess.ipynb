{
 "cells": [
  {
   "cell_type": "code",
   "execution_count": null,
   "id": "f381edf1",
   "metadata": {},
   "outputs": [],
   "source": [
    "import re\n",
    "import pickle\n",
    "import pandas as pd\n",
    "from datasets import Dataset, DatasetDict, load_dataset"
   ]
  },
  {
   "cell_type": "code",
   "execution_count": null,
   "id": "9fca3470",
   "metadata": {},
   "outputs": [],
   "source": [
    "train = pickle.load(open('training.res', 'rb'))\n",
    "val = pickle.load(open('testing.res', 'rb'))"
   ]
  },
  {
   "cell_type": "code",
   "execution_count": null,
   "id": "a82535bb",
   "metadata": {},
   "outputs": [],
   "source": [
    "text, label = train"
   ]
  },
  {
   "cell_type": "code",
   "execution_count": null,
   "id": "77c7ca44",
   "metadata": {},
   "outputs": [],
   "source": [
    "d_train = pd.DataFrame(data={'text': text, 'label': label})"
   ]
  },
  {
   "cell_type": "code",
   "execution_count": null,
   "id": "dc4e0f8f",
   "metadata": {},
   "outputs": [],
   "source": [
    "text, label = val"
   ]
  },
  {
   "cell_type": "code",
   "execution_count": null,
   "id": "5ad33a41",
   "metadata": {},
   "outputs": [],
   "source": [
    "d_val = pd.DataFrame(data={'text': text, 'label': label})"
   ]
  },
  {
   "cell_type": "code",
   "execution_count": null,
   "id": "67d30655",
   "metadata": {},
   "outputs": [],
   "source": [
    "d_val"
   ]
  },
  {
   "cell_type": "markdown",
   "id": "75c2980d",
   "metadata": {},
   "source": [
    "### Cleansing Label"
   ]
  },
  {
   "cell_type": "code",
   "execution_count": null,
   "id": "b8baa094",
   "metadata": {},
   "outputs": [],
   "source": [
    "d_train['stars'] = d_train.label.apply(lambda x: re.search('\\d', x).group())\n",
    "d_train.stars = d_train.stars.astype(int)\n",
    "d_train['label'] = d_train.stars.apply(lambda x: 'pos' if x>3 else 'neg')"
   ]
  },
  {
   "cell_type": "code",
   "execution_count": null,
   "id": "88a83994",
   "metadata": {},
   "outputs": [],
   "source": [
    "d_val['stars'] = d_val.label.apply(lambda x: re.search('\\d', x).group())\n",
    "d_val.stars = d_val.stars.astype(int)\n",
    "d_val['label'] = d_val.stars.apply(lambda x: 'pos' if x>3 else 'neg')"
   ]
  },
  {
   "cell_type": "code",
   "execution_count": null,
   "id": "105e0770",
   "metadata": {},
   "outputs": [],
   "source": [
    "d_train.to_csv('train.csv', index=False)"
   ]
  },
  {
   "cell_type": "code",
   "execution_count": null,
   "id": "db2c3391",
   "metadata": {},
   "outputs": [],
   "source": [
    "d_val.to_csv('validation.csv', index=False)"
   ]
  },
  {
   "cell_type": "code",
   "execution_count": null,
   "id": "a0574a5a",
   "metadata": {},
   "outputs": [],
   "source": [
    "from collections import defaultdict"
   ]
  },
  {
   "cell_type": "code",
   "execution_count": null,
   "id": "64ef848d",
   "metadata": {},
   "outputs": [],
   "source": [
    "gpr_dataset = defaultdict(Dataset)"
   ]
  },
  {
   "cell_type": "code",
   "execution_count": null,
   "id": "d322ccaa",
   "metadata": {},
   "outputs": [],
   "source": [
    "gpr_dataset['train'] = Dataset.from_pandas(d_train)"
   ]
  },
  {
   "cell_type": "code",
   "execution_count": null,
   "id": "4aacf937",
   "metadata": {},
   "outputs": [],
   "source": [
    "gpr_dataset['val'] = Dataset.from_pandas(d_val)"
   ]
  },
  {
   "cell_type": "code",
   "execution_count": null,
   "id": "789c1547",
   "metadata": {},
   "outputs": [],
   "source": [
    "gpr_dataset"
   ]
  },
  {
   "cell_type": "code",
   "execution_count": null,
   "id": "2bbc6407",
   "metadata": {},
   "outputs": [],
   "source": [
    "gpr_dataset = DatasetDict"
   ]
  },
  {
   "cell_type": "code",
   "execution_count": null,
   "id": "40788cdf",
   "metadata": {},
   "outputs": [],
   "source": []
  },
  {
   "cell_type": "markdown",
   "id": "b3dbd2dd",
   "metadata": {},
   "source": [
    "---"
   ]
  },
  {
   "cell_type": "code",
   "execution_count": null,
   "id": "bd0d2834",
   "metadata": {},
   "outputs": [],
   "source": [
    "gpr_dataset = load_dataset('google-play-review')"
   ]
  },
  {
   "cell_type": "code",
   "execution_count": null,
   "id": "b61a6126",
   "metadata": {},
   "outputs": [],
   "source": [
    "gpr_dataset.push_to_hub(\"jakartaresearch/google-play-review\")"
   ]
  },
  {
   "cell_type": "code",
   "execution_count": null,
   "id": "15d8eabb",
   "metadata": {},
   "outputs": [],
   "source": [
    "import csv"
   ]
  },
  {
   "cell_type": "code",
   "execution_count": null,
   "id": "5ce77824",
   "metadata": {},
   "outputs": [],
   "source": [
    "with open('google-play-review/train.csv', encoding=\"utf-8\") as csv_file:\n",
    "    csv_reader = csv.reader(csv_file, delimiter=\",\")\n",
    "    next(csv_reader)\n",
    "    for idx, row in enumerate(csv_reader):\n",
    "        print(row)\n",
    "        \n",
    "        if idx == 3:\n",
    "            break"
   ]
  },
  {
   "cell_type": "code",
   "execution_count": null,
   "id": "2d038683",
   "metadata": {},
   "outputs": [],
   "source": []
  }
 ],
 "metadata": {
  "kernelspec": {
   "display_name": "Python 3",
   "language": "python",
   "name": "python3"
  },
  "language_info": {
   "codemirror_mode": {
    "name": "ipython",
    "version": 3
   },
   "file_extension": ".py",
   "mimetype": "text/x-python",
   "name": "python",
   "nbconvert_exporter": "python",
   "pygments_lexer": "ipython3",
   "version": "3.7.3"
  }
 },
 "nbformat": 4,
 "nbformat_minor": 5
}
