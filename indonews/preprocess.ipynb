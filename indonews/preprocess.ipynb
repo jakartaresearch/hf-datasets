{
 "cells": [
  {
   "cell_type": "code",
   "execution_count": 1,
   "id": "520fb77e",
   "metadata": {},
   "outputs": [],
   "source": [
    "import pickle\n",
    "import pandas as pd"
   ]
  },
  {
   "cell_type": "code",
   "execution_count": 3,
   "id": "a99cff7d",
   "metadata": {},
   "outputs": [],
   "source": [
    "train = pickle.load(open('training.res', 'rb'))"
   ]
  },
  {
   "cell_type": "code",
   "execution_count": 4,
   "id": "a704632b",
   "metadata": {},
   "outputs": [],
   "source": [
    "validation = pickle.load(open('testing.res', 'rb'))"
   ]
  },
  {
   "cell_type": "code",
   "execution_count": 6,
   "id": "cc258cbd",
   "metadata": {},
   "outputs": [],
   "source": [
    "text, label = train"
   ]
  },
  {
   "cell_type": "code",
   "execution_count": 8,
   "id": "afb308d9",
   "metadata": {},
   "outputs": [],
   "source": [
    "d_train = pd.DataFrame(data={'text': text, 'label': label})"
   ]
  },
  {
   "cell_type": "code",
   "execution_count": 9,
   "id": "e675e8df",
   "metadata": {},
   "outputs": [],
   "source": [
    "text, label = validation"
   ]
  },
  {
   "cell_type": "code",
   "execution_count": 10,
   "id": "7f4b130d",
   "metadata": {},
   "outputs": [],
   "source": [
    "d_val = pd.DataFrame(data={'text': text, 'label': label})"
   ]
  },
  {
   "cell_type": "code",
   "execution_count": 11,
   "id": "2bd7d7bf",
   "metadata": {},
   "outputs": [],
   "source": [
    "d_train.to_csv('train.csv', index=False)"
   ]
  },
  {
   "cell_type": "code",
   "execution_count": 12,
   "id": "c6f6bf29",
   "metadata": {},
   "outputs": [],
   "source": [
    "d_val.to_csv('validation.csv', index=False)"
   ]
  },
  {
   "cell_type": "code",
   "execution_count": null,
   "id": "be0af71b",
   "metadata": {},
   "outputs": [],
   "source": []
  }
 ],
 "metadata": {
  "kernelspec": {
   "display_name": "Python 3",
   "language": "python",
   "name": "python3"
  },
  "language_info": {
   "codemirror_mode": {
    "name": "ipython",
    "version": 3
   },
   "file_extension": ".py",
   "mimetype": "text/x-python",
   "name": "python",
   "nbconvert_exporter": "python",
   "pygments_lexer": "ipython3",
   "version": "3.7.3"
  }
 },
 "nbformat": 4,
 "nbformat_minor": 5
}
