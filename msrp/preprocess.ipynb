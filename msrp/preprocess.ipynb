{
 "cells": [
  {
   "cell_type": "code",
   "execution_count": null,
   "id": "ee59c9bd",
   "metadata": {},
   "outputs": [],
   "source": [
    "import pandas as pd\n",
    "from googletrans import Translator"
   ]
  },
  {
   "cell_type": "code",
   "execution_count": null,
   "id": "170f4a87",
   "metadata": {},
   "outputs": [],
   "source": [
    "d_train = pd.read_csv('train.csv')\n",
    "d_test = pd.read_csv('test.csv')"
   ]
  },
  {
   "cell_type": "code",
   "execution_count": null,
   "id": "6199bc12",
   "metadata": {},
   "outputs": [],
   "source": [
    "translator = Translator()"
   ]
  },
  {
   "cell_type": "code",
   "execution_count": null,
   "id": "cd764b0b",
   "metadata": {},
   "outputs": [],
   "source": [
    "d_train.head()"
   ]
  },
  {
   "cell_type": "code",
   "execution_count": null,
   "id": "1f5f2852",
   "metadata": {},
   "outputs": [],
   "source": [
    "d_train.loc[0, '#1 String']"
   ]
  },
  {
   "cell_type": "markdown",
   "id": "d6ef8f1b",
   "metadata": {},
   "source": [
    "### Translated"
   ]
  },
  {
   "cell_type": "code",
   "execution_count": 1,
   "id": "5972298e",
   "metadata": {},
   "outputs": [],
   "source": [
    "import pandas as pd"
   ]
  },
  {
   "cell_type": "code",
   "execution_count": 13,
   "id": "cef9512f",
   "metadata": {},
   "outputs": [],
   "source": [
    "d_train = pd.read_excel('msrp-train.xlsx', sheet_name=0)"
   ]
  },
  {
   "cell_type": "code",
   "execution_count": 14,
   "id": "3aeb1a4f",
   "metadata": {},
   "outputs": [],
   "source": [
    "d_test = pd.read_excel('msrp-test.xlsx', sheet_name=0)"
   ]
  },
  {
   "cell_type": "code",
   "execution_count": 15,
   "id": "660a9fcf",
   "metadata": {},
   "outputs": [],
   "source": [
    "d_train = d_train[['#1 Translate', '#2 Translate', 'Quality']].copy()\n",
    "d_test = d_test[['#1 Translate', '#2 Translate', 'Quality']].copy()"
   ]
  },
  {
   "cell_type": "code",
   "execution_count": 16,
   "id": "a9bbb8d0",
   "metadata": {},
   "outputs": [],
   "source": [
    "d_train.columns = ['sentence1', 'sentence2', 'label']\n",
    "d_test.columns = ['sentence1', 'sentence2', 'label']"
   ]
  },
  {
   "cell_type": "code",
   "execution_count": 17,
   "id": "1a246d04",
   "metadata": {},
   "outputs": [],
   "source": [
    "d_train.label = d_train.label.astype(int)"
   ]
  },
  {
   "cell_type": "code",
   "execution_count": 18,
   "id": "aa460284",
   "metadata": {},
   "outputs": [],
   "source": [
    "d_test.label = d_test.label.astype(int)"
   ]
  },
  {
   "cell_type": "code",
   "execution_count": 20,
   "id": "d0ce9b98",
   "metadata": {},
   "outputs": [],
   "source": [
    "d_train.to_csv('id_train.csv', index=False)"
   ]
  },
  {
   "cell_type": "code",
   "execution_count": 21,
   "id": "54ada649",
   "metadata": {},
   "outputs": [],
   "source": [
    "d_test.to_csv('id_test.csv', index=False)"
   ]
  },
  {
   "cell_type": "code",
   "execution_count": null,
   "id": "a3871ddb",
   "metadata": {},
   "outputs": [],
   "source": []
  }
 ],
 "metadata": {
  "kernelspec": {
   "display_name": "Python 3",
   "language": "python",
   "name": "python3"
  },
  "language_info": {
   "codemirror_mode": {
    "name": "ipython",
    "version": 3
   },
   "file_extension": ".py",
   "mimetype": "text/x-python",
   "name": "python",
   "nbconvert_exporter": "python",
   "pygments_lexer": "ipython3",
   "version": "3.7.3"
  }
 },
 "nbformat": 4,
 "nbformat_minor": 5
}
